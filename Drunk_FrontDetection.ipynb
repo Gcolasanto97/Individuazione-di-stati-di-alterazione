{
  "nbformat": 4,
  "nbformat_minor": 0,
  "metadata": {
    "colab": {
      "name": "Drunk_FrontDetection.ipynb",
      "provenance": [],
      "collapsed_sections": []
    },
    "kernelspec": {
      "name": "python3",
      "display_name": "Python 3"
    }
  },
  "cells": [
    {
      "cell_type": "code",
      "metadata": {
        "id": "-GbKrT1iiCCa"
      },
      "source": [
        "import glob\n",
        "import numpy as np\n",
        "import cv2\n",
        "import matplotlib.pyplot as plt"
      ],
      "execution_count": null,
      "outputs": []
    },
    {
      "cell_type": "markdown",
      "metadata": {
        "id": "c_ko74aFts6w"
      },
      "source": [
        "Importazione delle librerie."
      ]
    },
    {
      "cell_type": "code",
      "metadata": {
        "id": "YRXZrHZryT7o"
      },
      "source": [
        "def save_image(a,b):\n",
        "  if (a<10):\n",
        "    A=\"0\"+str(a)\n",
        "  else :\n",
        "    A=str(a)\n",
        "  if (b<10):\n",
        "    B=\"0\"+str(b)\n",
        "  else :\n",
        "    B=str(b)\n",
        "  path=\"drive/MyDrive/Database/FACE/Test/Ubriaco/\"+A+\"_*_00\"+B+\".jpg\"\n",
        "  image = [cv2.imread(file) for file in glob.glob(path)]\n",
        "  gray=cv2.cvtColor(image[0], cv2.COLOR_BGR2GRAY)\n",
        "  #plt.imshow(gray, cmap=plt.get_cmap('gray'))\n",
        "  res=np.eye(10,25)\n",
        "  for i in range (0,10):\n",
        "    for j in range (0,25):\n",
        "      res[i][j]=gray[23+i][67+j]\n",
        "  path2=\"drive/MyDrive/Database/TRY/Test/Ubriaco/\"+A+\"_\"+B+\".jpg\" \n",
        "  cv2.imwrite(path2, res)"
      ],
      "execution_count": null,
      "outputs": []
    },
    {
      "cell_type": "markdown",
      "metadata": {
        "id": "ZUBfqz62txDt"
      },
      "source": [
        "Questa funzione converte le immagini in scala di grigio e ritaglia la regione interessata generando nuove immagini adatte alla CNN. I parametri di input **a** e **b** definiscono l'immagine da salezionare, riconoscendo i pattern dei file, la variabile a indica il numero relitavo al soggetto, mentre la variabile b indica il numero del frame."
      ]
    },
    {
      "cell_type": "code",
      "metadata": {
        "colab": {
          "base_uri": "https://localhost:8080/"
        },
        "id": "_YJiLwdTK2F8",
        "outputId": "75314213-3f75-4997-9373-f62e087fb438"
      },
      "source": [
        "for i in range (30,42):\n",
        "  for j in range (1,47):\n",
        "    if ((j-1)%5==0 and i!=20):\n",
        "      print(i,\" \", j)\n",
        "      save_image(i,j)"
      ],
      "execution_count": null,
      "outputs": [
        {
          "output_type": "stream",
          "text": [
            "30   1\n",
            "30   6\n",
            "30   11\n",
            "30   16\n",
            "30   21\n",
            "30   26\n",
            "30   31\n",
            "30   36\n",
            "30   41\n",
            "30   46\n",
            "31   1\n",
            "31   6\n",
            "31   11\n",
            "31   16\n",
            "31   21\n",
            "31   26\n",
            "31   31\n",
            "31   36\n",
            "31   41\n",
            "31   46\n",
            "32   1\n",
            "32   6\n",
            "32   11\n",
            "32   16\n",
            "32   21\n",
            "32   26\n",
            "32   31\n",
            "32   36\n",
            "32   41\n",
            "32   46\n",
            "33   1\n",
            "33   6\n",
            "33   11\n",
            "33   16\n",
            "33   21\n",
            "33   26\n",
            "33   31\n",
            "33   36\n",
            "33   41\n",
            "33   46\n",
            "34   1\n",
            "34   6\n",
            "34   11\n",
            "34   16\n",
            "34   21\n",
            "34   26\n",
            "34   31\n",
            "34   36\n",
            "34   41\n",
            "34   46\n",
            "35   1\n",
            "35   6\n",
            "35   11\n",
            "35   16\n",
            "35   21\n",
            "35   26\n",
            "35   31\n",
            "35   36\n",
            "35   41\n",
            "35   46\n",
            "36   1\n",
            "36   6\n",
            "36   11\n",
            "36   16\n",
            "36   21\n",
            "36   26\n",
            "36   31\n",
            "36   36\n",
            "36   41\n",
            "36   46\n",
            "37   1\n",
            "37   6\n",
            "37   11\n",
            "37   16\n",
            "37   21\n",
            "37   26\n",
            "37   31\n",
            "37   36\n",
            "37   41\n",
            "37   46\n",
            "38   1\n",
            "38   6\n",
            "38   11\n",
            "38   16\n",
            "38   21\n",
            "38   26\n",
            "38   31\n",
            "38   36\n",
            "38   41\n",
            "38   46\n",
            "39   1\n",
            "39   6\n",
            "39   11\n",
            "39   16\n",
            "39   21\n",
            "39   26\n",
            "39   31\n",
            "39   36\n",
            "39   41\n",
            "39   46\n",
            "40   1\n",
            "40   6\n",
            "40   11\n",
            "40   16\n",
            "40   21\n",
            "40   26\n",
            "40   31\n",
            "40   36\n",
            "40   41\n",
            "40   46\n",
            "41   1\n",
            "41   6\n",
            "41   11\n",
            "41   16\n",
            "41   21\n",
            "41   26\n",
            "41   31\n",
            "41   36\n",
            "41   41\n",
            "41   46\n"
          ],
          "name": "stdout"
        }
      ]
    },
    {
      "cell_type": "markdown",
      "metadata": {
        "id": "UY0doCKDu1xr"
      },
      "source": [
        "Con questi comandi iteriamo la funzione precedentemente creata su tutta la directory. Si tenga presente che il soggetto 20 è escluso dalle cartelle **Test** e **Train** in quanto le sue acquisizioni sono errate, vengono considerati tutti i restanti 40 soggetti. Inoltre la condizione (j-1)%5==0 ci permette di effettuare un operazione di **frame skipping**. \n",
        "\n",
        "Per il corretto funzionamento impostare gli indici **i** e **j** dei due cicli in base ai nomi degli elementi all'interno della directory. Vengono stampati i vari indici usati."
      ]
    }
  ]
}